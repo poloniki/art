{
 "cells": [
  {
   "cell_type": "markdown",
   "metadata": {},
   "source": []
  },
  {
   "cell_type": "code",
   "execution_count": 1,
   "metadata": {},
   "outputs": [],
   "source": [
    "import os\n",
    "from art.params import *\n",
    "\n",
    "base_dir = LOCAL_DATA_PATH\n",
    "train_dir = os.path.join(base_dir, \"train\")\n",
    "validation_dir = os.path.join(base_dir, \"validation\")\n",
    "test_dir = os.path.join(base_dir, \"test\")"
   ]
  },
  {
   "cell_type": "code",
   "execution_count": null,
   "metadata": {},
   "outputs": [],
   "source": [
    "from art.load_data import load_data\n",
    "from art.clean import clean_data, get_most_common\n",
    "\n",
    "data = load_data(path=\"/Users/poloniki/code/melisa/art/label_list/label_list.csv\")\n",
    "cleaned_data = clean_data(data)\n",
    "df = get_most_common(cleaned_data, \"Style\", 0.8)"
   ]
  },
  {
   "cell_type": "code",
   "execution_count": 3,
   "metadata": {},
   "outputs": [
    {
     "data": {
      "text/plain": [
       "array(['impressionism', 'conceptual_art', 'surrealism',\n",
       "       'early_renaissance', 'baroque', 'rococo', 'neoclassicism',\n",
       "       'romanticism', 'ukiyo_e', 'naïve_art_primitivism', 'realism',\n",
       "       'abstract_art', 'expressionism', 'symbolism', 'academicism',\n",
       "       'post_impressionism', 'art_nouveau_modern', 'cubism',\n",
       "       'abstract_expressionism', 'magic_realism',\n",
       "       'mannerism_late_renaissance', 'northern_renaissance',\n",
       "       'high_renaissance', 'op_art', 'art_informel', 'minimalism',\n",
       "       'color_field_painting', 'pop_art'], dtype=object)"
      ]
     },
     "execution_count": 3,
     "metadata": {},
     "output_type": "execute_result"
    }
   ],
   "source": [
    "df.Style.unique()"
   ]
  },
  {
   "cell_type": "code",
   "execution_count": 4,
   "metadata": {},
   "outputs": [
    {
     "name": "stdout",
     "output_type": "stream",
     "text": [
      "Removing invalid image: /Users/poloniki/.lewagon/art_data/validation.cache\n",
      "Removing invalid image: /Users/poloniki/.lewagon/art_data/train.cache\n"
     ]
    },
    {
     "ename": "KeyboardInterrupt",
     "evalue": "",
     "output_type": "error",
     "traceback": [
      "\u001b[0;31m---------------------------------------------------------------------------\u001b[0m",
      "\u001b[0;31mKeyboardInterrupt\u001b[0m                         Traceback (most recent call last)",
      "Cell \u001b[0;32mIn [4], line 30\u001b[0m\n\u001b[1;32m     27\u001b[0m dataset_dir \u001b[38;5;241m=\u001b[39m LOCAL_DATA_PATH\n\u001b[1;32m     29\u001b[0m \u001b[38;5;66;03m# Check and remove empty or invalid images\u001b[39;00m\n\u001b[0;32m---> 30\u001b[0m \u001b[43mcheck_and_remove_invalid_images\u001b[49m\u001b[43m(\u001b[49m\u001b[43mdataset_dir\u001b[49m\u001b[43m)\u001b[49m\n",
      "Cell \u001b[0;32mIn [4], line 22\u001b[0m, in \u001b[0;36mcheck_and_remove_invalid_images\u001b[0;34m(base_dir)\u001b[0m\n\u001b[1;32m     20\u001b[0m \u001b[38;5;28;01mfor\u001b[39;00m file \u001b[38;5;129;01min\u001b[39;00m files:\n\u001b[1;32m     21\u001b[0m     file_path \u001b[38;5;241m=\u001b[39m os\u001b[38;5;241m.\u001b[39mpath\u001b[38;5;241m.\u001b[39mjoin(root, file)\n\u001b[0;32m---> 22\u001b[0m     \u001b[38;5;28;01mif\u001b[39;00m \u001b[38;5;129;01mnot\u001b[39;00m \u001b[43mis_image_valid\u001b[49m\u001b[43m(\u001b[49m\u001b[43mfile_path\u001b[49m\u001b[43m)\u001b[49m:\n\u001b[1;32m     23\u001b[0m         \u001b[38;5;28mprint\u001b[39m(\u001b[38;5;124mf\u001b[39m\u001b[38;5;124m\"\u001b[39m\u001b[38;5;124mRemoving invalid image: \u001b[39m\u001b[38;5;132;01m{\u001b[39;00mfile_path\u001b[38;5;132;01m}\u001b[39;00m\u001b[38;5;124m\"\u001b[39m)\n\u001b[1;32m     24\u001b[0m         os\u001b[38;5;241m.\u001b[39mremove(file_path)\n",
      "Cell \u001b[0;32mIn [4], line 12\u001b[0m, in \u001b[0;36mis_image_valid\u001b[0;34m(image_path)\u001b[0m\n\u001b[1;32m     10\u001b[0m \u001b[38;5;66;03m# Reopen the image to ensure it can be read\u001b[39;00m\n\u001b[1;32m     11\u001b[0m img \u001b[38;5;241m=\u001b[39m Image\u001b[38;5;241m.\u001b[39mopen(image_path)\n\u001b[0;32m---> 12\u001b[0m \u001b[43mimg\u001b[49m\u001b[38;5;241;43m.\u001b[39;49m\u001b[43mload\u001b[49m\u001b[43m(\u001b[49m\u001b[43m)\u001b[49m    \u001b[38;5;66;03m# Ensure the image can be fully loaded\u001b[39;00m\n\u001b[1;32m     13\u001b[0m img\u001b[38;5;241m.\u001b[39mclose()\n\u001b[1;32m     14\u001b[0m \u001b[38;5;28;01mreturn\u001b[39;00m \u001b[38;5;28;01mTrue\u001b[39;00m\n",
      "File \u001b[0;32m~/.pyenv/versions/3.10.6/envs/lewagon/lib/python3.10/site-packages/PIL/ImageFile.py:249\u001b[0m, in \u001b[0;36mImageFile.load\u001b[0;34m(self)\u001b[0m\n\u001b[1;32m    247\u001b[0m \u001b[38;5;28;01mwhile\u001b[39;00m \u001b[38;5;28;01mTrue\u001b[39;00m:\n\u001b[1;32m    248\u001b[0m     \u001b[38;5;28;01mtry\u001b[39;00m:\n\u001b[0;32m--> 249\u001b[0m         s \u001b[38;5;241m=\u001b[39m \u001b[43mread\u001b[49m\u001b[43m(\u001b[49m\u001b[38;5;28;43mself\u001b[39;49m\u001b[38;5;241;43m.\u001b[39;49m\u001b[43mdecodermaxblock\u001b[49m\u001b[43m)\u001b[49m\n\u001b[1;32m    250\u001b[0m     \u001b[38;5;28;01mexcept\u001b[39;00m (\u001b[38;5;167;01mIndexError\u001b[39;00m, struct\u001b[38;5;241m.\u001b[39merror) \u001b[38;5;28;01mas\u001b[39;00m e:\n\u001b[1;32m    251\u001b[0m         \u001b[38;5;66;03m# truncated png/gif\u001b[39;00m\n\u001b[1;32m    252\u001b[0m         \u001b[38;5;28;01mif\u001b[39;00m LOAD_TRUNCATED_IMAGES:\n",
      "File \u001b[0;32m~/.pyenv/versions/3.10.6/envs/lewagon/lib/python3.10/site-packages/PIL/JpegImagePlugin.py:414\u001b[0m, in \u001b[0;36mJpegImageFile.load_read\u001b[0;34m(self, read_bytes)\u001b[0m\n\u001b[1;32m    408\u001b[0m \u001b[38;5;28;01mdef\u001b[39;00m \u001b[38;5;21mload_read\u001b[39m(\u001b[38;5;28mself\u001b[39m, read_bytes):\n\u001b[1;32m    409\u001b[0m     \u001b[38;5;124;03m\"\"\"\u001b[39;00m\n\u001b[1;32m    410\u001b[0m \u001b[38;5;124;03m    internal: read more image data\u001b[39;00m\n\u001b[1;32m    411\u001b[0m \u001b[38;5;124;03m    For premature EOF and LOAD_TRUNCATED_IMAGES adds EOI marker\u001b[39;00m\n\u001b[1;32m    412\u001b[0m \u001b[38;5;124;03m    so libjpeg can finish decoding\u001b[39;00m\n\u001b[1;32m    413\u001b[0m \u001b[38;5;124;03m    \"\"\"\u001b[39;00m\n\u001b[0;32m--> 414\u001b[0m     s \u001b[38;5;241m=\u001b[39m \u001b[38;5;28;43mself\u001b[39;49m\u001b[38;5;241;43m.\u001b[39;49m\u001b[43mfp\u001b[49m\u001b[38;5;241;43m.\u001b[39;49m\u001b[43mread\u001b[49m\u001b[43m(\u001b[49m\u001b[43mread_bytes\u001b[49m\u001b[43m)\u001b[49m\n\u001b[1;32m    416\u001b[0m     \u001b[38;5;28;01mif\u001b[39;00m \u001b[38;5;129;01mnot\u001b[39;00m s \u001b[38;5;129;01mand\u001b[39;00m ImageFile\u001b[38;5;241m.\u001b[39mLOAD_TRUNCATED_IMAGES \u001b[38;5;129;01mand\u001b[39;00m \u001b[38;5;129;01mnot\u001b[39;00m \u001b[38;5;28mhasattr\u001b[39m(\u001b[38;5;28mself\u001b[39m, \u001b[38;5;124m\"\u001b[39m\u001b[38;5;124m_ended\u001b[39m\u001b[38;5;124m\"\u001b[39m):\n\u001b[1;32m    417\u001b[0m         \u001b[38;5;66;03m# Premature EOF.\u001b[39;00m\n\u001b[1;32m    418\u001b[0m         \u001b[38;5;66;03m# Pretend file is finished adding EOI marker\u001b[39;00m\n\u001b[1;32m    419\u001b[0m         \u001b[38;5;28mself\u001b[39m\u001b[38;5;241m.\u001b[39m_ended \u001b[38;5;241m=\u001b[39m \u001b[38;5;28;01mTrue\u001b[39;00m\n",
      "\u001b[0;31mKeyboardInterrupt\u001b[0m: "
     ]
    }
   ],
   "source": [
    "import os\n",
    "from PIL import Image\n",
    "\n",
    "def is_image_valid(image_path):\n",
    "    try:\n",
    "        img = Image.open(image_path)\n",
    "        img.verify()  # Verify that it is an image\n",
    "        img.close()   # Close the image to avoid resource leaks\n",
    "\n",
    "        # Reopen the image to ensure it can be read\n",
    "        img = Image.open(image_path)\n",
    "        img.load()    # Ensure the image can be fully loaded\n",
    "        img.close()\n",
    "        return True\n",
    "    except (IOError, SyntaxError, OSError) as e:\n",
    "        return False\n",
    "\n",
    "def check_and_remove_invalid_images(base_dir):\n",
    "    for root, dirs, files in os.walk(base_dir):\n",
    "        for file in files:\n",
    "            file_path = os.path.join(root, file)\n",
    "            if not is_image_valid(file_path):\n",
    "                print(f\"Removing invalid image: {file_path}\")\n",
    "                os.remove(file_path)\n",
    "\n",
    "# Set the path to the directory containing your image dataset\n",
    "dataset_dir = LOCAL_DATA_PATH\n",
    "\n",
    "# Check and remove empty or invalid images\n",
    "check_and_remove_invalid_images(dataset_dir)\n"
   ]
  },
  {
   "cell_type": "code",
   "execution_count": 10,
   "metadata": {},
   "outputs": [
    {
     "name": "stdout",
     "output_type": "stream",
     "text": [
      "Found 77293 files belonging to 28 classes.\n",
      "Found 13828 files belonging to 28 classes.\n"
     ]
    }
   ],
   "source": [
    "import tensorflow as tf\n",
    "from tensorflow.keras.preprocessing import image_dataset_from_directory\n",
    "\n",
    "\n",
    "\n",
    "# Specify the batch size and image dimensions\n",
    "batch_size = 32\n",
    "img_height = 224\n",
    "img_width = 224\n",
    "\n",
    "# Load the training dataset with augmentation\n",
    "train_dataset = image_dataset_from_directory(\n",
    "    train_dir,\n",
    "\n",
    "    seed=123,\n",
    "    image_size=(img_height, img_width),\n",
    "    batch_size=batch_size,\n",
    "    label_mode='categorical',  # For multi-class classification\n",
    "    labels='inferred'\n",
    ")\n",
    "\n",
    "# Load the validation dataset\n",
    "validation_dataset = image_dataset_from_directory(\n",
    "    validation_dir,\n",
    "\n",
    "    seed=123,\n",
    "    image_size=(img_height, img_width),\n",
    "    batch_size=batch_size,\n",
    "    label_mode='categorical',  # For multi-class classification\n",
    "    labels='inferred'\n",
    ")\n",
    "\n",
    "# Create data augmentation layers\n",
    "data_augmentation = tf.keras.Sequential([\n",
    "    tf.keras.layers.RandomFlip('horizontal'),\n",
    "    tf.keras.layers.RandomRotation(0.2),\n",
    "    tf.keras.layers.RandomWidth(0.2),\n",
    "    tf.keras.layers.RandomHeight(0.2)\n",
    "])\n",
    "\n",
    "# Prefetch the datasets for better performance\n",
    "AUTOTUNE = tf.data.AUTOTUNE\n",
    "\n",
    "train_dataset = train_dataset.prefetch(buffer_size=AUTOTUNE)\n",
    "validation_dataset = validation_dataset.prefetch(buffer_size=AUTOTUNE)\n"
   ]
  },
  {
   "cell_type": "code",
   "execution_count": 11,
   "metadata": {},
   "outputs": [],
   "source": [
    "from tensorflow.keras.applications import VGG16\n",
    "from tensorflow.keras.models import Sequential\n",
    "from tensorflow.keras.layers import Conv2D, MaxPooling2D, Flatten, Dense, Dropout, GlobalAveragePooling2D\n",
    "from tensorflow.keras.optimizers import Adam\n",
    "\n",
    "# Load the pre-trained VGG16 model\n",
    "base_model = VGG16(weights='imagenet', include_top=False, input_shape=(img_height, img_width, 3))\n",
    "\n",
    "# Freeze the layers of the base model\n",
    "for layer in base_model.layers:\n",
    "    layer.trainable = False\n",
    "\n",
    "# Create a sequential model and add the VGG16 model\n",
    "model = Sequential([\n",
    "    data_augmentation,          # Adding data augmentation directly into the model\n",
    "    base_model,\n",
    "    GlobalAveragePooling2D(),\n",
    "    Dense(512, activation='relu'),\n",
    "    Dropout(0.5),\n",
    "    Dense(256, activation='relu'),\n",
    "    Dropout(0.5),\n",
    "    Dense(28, activation='softmax')  # Number of classes inferred from dataset\n",
    "])\n",
    "\n",
    "# Compile the model\n",
    "model.compile(optimizer=Adam(learning_rate=0.0001), loss='categorical_crossentropy', metrics=['accuracy'])\n"
   ]
  },
  {
   "cell_type": "code",
   "execution_count": 13,
   "metadata": {},
   "outputs": [
    {
     "name": "stdout",
     "output_type": "stream",
     "text": [
      "Epoch 1/300\n"
     ]
    },
    {
     "name": "stdout",
     "output_type": "stream",
     "text": [
      "  83/2416 [>.............................] - ETA: 14:22 - loss: 6.7537 - accuracy: 0.0602"
     ]
    },
    {
     "name": "stderr",
     "output_type": "stream",
     "text": [
      "Corrupt JPEG data: 4015 extraneous bytes before marker 0xe2\n"
     ]
    },
    {
     "name": "stdout",
     "output_type": "stream",
     "text": [
      " 439/2416 [====>.........................] - ETA: 9:50 - loss: 4.6755 - accuracy: 0.0829"
     ]
    },
    {
     "name": "stderr",
     "output_type": "stream",
     "text": [
      "2024-06-05 23:18:47.418139: W tensorflow/core/lib/png/png_io.cc:88] PNG warning: iCCP: known incorrect sRGB profile\n"
     ]
    },
    {
     "name": "stdout",
     "output_type": "stream",
     "text": [
      "2416/2416 [==============================] - 549s 227ms/step - loss: 3.3379 - accuracy: 0.1456 - val_loss: 2.5217 - val_accuracy: 0.2601\n",
      "Epoch 2/300\n",
      "  84/2416 [>.............................] - ETA: 6:59 - loss: 2.8355 - accuracy: 0.1853"
     ]
    },
    {
     "name": "stderr",
     "output_type": "stream",
     "text": [
      "Corrupt JPEG data: 4015 extraneous bytes before marker 0xe2\n"
     ]
    },
    {
     "name": "stdout",
     "output_type": "stream",
     "text": [
      " 439/2416 [====>.........................] - ETA: 5:26 - loss: 2.8136 - accuracy: 0.1880"
     ]
    },
    {
     "name": "stderr",
     "output_type": "stream",
     "text": [
      "2024-06-05 23:26:57.379956: W tensorflow/core/lib/png/png_io.cc:88] PNG warning: iCCP: known incorrect sRGB profile\n"
     ]
    },
    {
     "name": "stdout",
     "output_type": "stream",
     "text": [
      "2416/2416 [==============================] - 363s 150ms/step - loss: 2.6963 - accuracy: 0.2125 - val_loss: 2.3123 - val_accuracy: 0.3048\n",
      "Epoch 3/300\n",
      "  84/2416 [>.............................] - ETA: 4:22 - loss: 2.5860 - accuracy: 0.2310"
     ]
    },
    {
     "name": "stderr",
     "output_type": "stream",
     "text": [
      "Corrupt JPEG data: 4015 extraneous bytes before marker 0xe2\n"
     ]
    },
    {
     "name": "stdout",
     "output_type": "stream",
     "text": [
      " 439/2416 [====>.........................] - ETA: 3:52 - loss: 2.5892 - accuracy: 0.2363"
     ]
    },
    {
     "name": "stderr",
     "output_type": "stream",
     "text": [
      "2024-06-05 23:32:39.253462: W tensorflow/core/lib/png/png_io.cc:88] PNG warning: iCCP: known incorrect sRGB profile\n"
     ]
    },
    {
     "name": "stdout",
     "output_type": "stream",
     "text": [
      "2416/2416 [==============================] - 286s 118ms/step - loss: 2.5268 - accuracy: 0.2496 - val_loss: 2.2006 - val_accuracy: 0.3327\n",
      "Epoch 4/300\n",
      "  85/2416 [>.............................] - ETA: 3:34 - loss: 2.4677 - accuracy: 0.2607"
     ]
    },
    {
     "name": "stderr",
     "output_type": "stream",
     "text": [
      "Corrupt JPEG data: 4015 extraneous bytes before marker 0xe2\n"
     ]
    },
    {
     "name": "stdout",
     "output_type": "stream",
     "text": [
      " 439/2416 [====>.........................] - ETA: 3:12 - loss: 2.4679 - accuracy: 0.2607"
     ]
    },
    {
     "name": "stderr",
     "output_type": "stream",
     "text": [
      "2024-06-05 23:37:16.363579: W tensorflow/core/lib/png/png_io.cc:88] PNG warning: iCCP: known incorrect sRGB profile\n"
     ]
    },
    {
     "name": "stdout",
     "output_type": "stream",
     "text": [
      "2416/2416 [==============================] - 244s 101ms/step - loss: 2.4235 - accuracy: 0.2722 - val_loss: 2.1268 - val_accuracy: 0.3496\n",
      "Epoch 5/300\n",
      "  87/2416 [>.............................] - ETA: 3:08 - loss: 2.3818 - accuracy: 0.2769"
     ]
    },
    {
     "name": "stderr",
     "output_type": "stream",
     "text": [
      "Corrupt JPEG data: 4015 extraneous bytes before marker 0xe2\n"
     ]
    },
    {
     "name": "stdout",
     "output_type": "stream",
     "text": [
      " 439/2416 [====>.........................] - ETA: 2:43 - loss: 2.3846 - accuracy: 0.2817"
     ]
    },
    {
     "name": "stderr",
     "output_type": "stream",
     "text": [
      "2024-06-05 23:41:14.461188: W tensorflow/core/lib/png/png_io.cc:88] PNG warning: iCCP: known incorrect sRGB profile\n"
     ]
    },
    {
     "name": "stdout",
     "output_type": "stream",
     "text": [
      "2416/2416 [==============================] - 204s 85ms/step - loss: 2.3511 - accuracy: 0.2889 - val_loss: 2.0785 - val_accuracy: 0.3635\n",
      "Epoch 6/300\n",
      "  85/2416 [>.............................] - ETA: 2:55 - loss: 2.3139 - accuracy: 0.2971"
     ]
    },
    {
     "name": "stderr",
     "output_type": "stream",
     "text": [
      "Corrupt JPEG data: 4015 extraneous bytes before marker 0xe2\n"
     ]
    },
    {
     "name": "stdout",
     "output_type": "stream",
     "text": [
      " 439/2416 [====>.........................] - ETA: 2:36 - loss: 2.3265 - accuracy: 0.2929"
     ]
    },
    {
     "name": "stderr",
     "output_type": "stream",
     "text": [
      "2024-06-05 23:44:37.440655: W tensorflow/core/lib/png/png_io.cc:88] PNG warning: iCCP: known incorrect sRGB profile\n"
     ]
    },
    {
     "name": "stdout",
     "output_type": "stream",
     "text": [
      "2416/2416 [==============================] - 186s 77ms/step - loss: 2.3024 - accuracy: 0.3003 - val_loss: 2.0472 - val_accuracy: 0.3720\n",
      "Epoch 7/300\n",
      "  87/2416 [>.............................] - ETA: 2:58 - loss: 2.2675 - accuracy: 0.3118"
     ]
    },
    {
     "name": "stderr",
     "output_type": "stream",
     "text": [
      "Corrupt JPEG data: 4015 extraneous bytes before marker 0xe2\n"
     ]
    },
    {
     "name": "stdout",
     "output_type": "stream",
     "text": [
      " 441/2416 [====>.........................] - ETA: 2:07 - loss: 2.2877 - accuracy: 0.3035"
     ]
    },
    {
     "name": "stderr",
     "output_type": "stream",
     "text": [
      "2024-06-05 23:47:37.143187: W tensorflow/core/lib/png/png_io.cc:88] PNG warning: iCCP: known incorrect sRGB profile\n"
     ]
    },
    {
     "name": "stdout",
     "output_type": "stream",
     "text": [
      "2416/2416 [==============================] - 168s 69ms/step - loss: 2.2547 - accuracy: 0.3113 - val_loss: 2.0143 - val_accuracy: 0.3743\n",
      "Epoch 8/300\n",
      "  85/2416 [>.............................] - ETA: 2:10 - loss: 2.2247 - accuracy: 0.3213"
     ]
    },
    {
     "name": "stderr",
     "output_type": "stream",
     "text": [
      "Corrupt JPEG data: 4015 extraneous bytes before marker 0xe2\n"
     ]
    },
    {
     "name": "stdout",
     "output_type": "stream",
     "text": [
      " 441/2416 [====>.........................] - ETA: 1:55 - loss: 2.2401 - accuracy: 0.3172"
     ]
    },
    {
     "name": "stderr",
     "output_type": "stream",
     "text": [
      "2024-06-05 23:50:22.061095: W tensorflow/core/lib/png/png_io.cc:88] PNG warning: iCCP: known incorrect sRGB profile\n"
     ]
    },
    {
     "name": "stdout",
     "output_type": "stream",
     "text": [
      "2416/2416 [==============================] - 158s 65ms/step - loss: 2.2209 - accuracy: 0.3223 - val_loss: 1.9929 - val_accuracy: 0.3812\n",
      "Epoch 9/300\n",
      "  86/2416 [>.............................] - ETA: 1:52 - loss: 2.1851 - accuracy: 0.3292"
     ]
    },
    {
     "name": "stderr",
     "output_type": "stream",
     "text": [
      "Corrupt JPEG data: 4015 extraneous bytes before marker 0xe2\n"
     ]
    },
    {
     "name": "stdout",
     "output_type": "stream",
     "text": [
      " 441/2416 [====>.........................] - ETA: 1:49 - loss: 2.2012 - accuracy: 0.3210"
     ]
    },
    {
     "name": "stderr",
     "output_type": "stream",
     "text": [
      "2024-06-05 23:52:58.824471: W tensorflow/core/lib/png/png_io.cc:88] PNG warning: iCCP: known incorrect sRGB profile\n"
     ]
    },
    {
     "name": "stdout",
     "output_type": "stream",
     "text": [
      "2416/2416 [==============================] - 149s 62ms/step - loss: 2.1933 - accuracy: 0.3274 - val_loss: 1.9635 - val_accuracy: 0.3884\n",
      "Epoch 10/300\n",
      "  86/2416 [>.............................] - ETA: 1:57 - loss: 2.1540 - accuracy: 0.3401"
     ]
    },
    {
     "name": "stderr",
     "output_type": "stream",
     "text": [
      "Corrupt JPEG data: 4015 extraneous bytes before marker 0xe2\n"
     ]
    },
    {
     "name": "stdout",
     "output_type": "stream",
     "text": [
      " 438/2416 [====>.........................] - ETA: 1:44 - loss: 2.1666 - accuracy: 0.3325"
     ]
    },
    {
     "name": "stderr",
     "output_type": "stream",
     "text": [
      "2024-06-05 23:55:27.035678: W tensorflow/core/lib/png/png_io.cc:88] PNG warning: iCCP: known incorrect sRGB profile\n"
     ]
    },
    {
     "name": "stdout",
     "output_type": "stream",
     "text": [
      "2416/2416 [==============================] - 141s 59ms/step - loss: 2.1628 - accuracy: 0.3346 - val_loss: 1.9494 - val_accuracy: 0.3894\n",
      "Epoch 11/300\n",
      "  87/2416 [>.............................] - ETA: 2:06 - loss: 2.1293 - accuracy: 0.3445"
     ]
    },
    {
     "name": "stderr",
     "output_type": "stream",
     "text": [
      "Corrupt JPEG data: 4015 extraneous bytes before marker 0xe2\n"
     ]
    },
    {
     "name": "stdout",
     "output_type": "stream",
     "text": [
      " 441/2416 [====>.........................] - ETA: 1:39 - loss: 2.1535 - accuracy: 0.3360"
     ]
    },
    {
     "name": "stderr",
     "output_type": "stream",
     "text": [
      "2024-06-05 23:57:47.419943: W tensorflow/core/lib/png/png_io.cc:88] PNG warning: iCCP: known incorrect sRGB profile\n"
     ]
    },
    {
     "name": "stdout",
     "output_type": "stream",
     "text": [
      "2416/2416 [==============================] - 140s 58ms/step - loss: 2.1400 - accuracy: 0.3417 - val_loss: 1.9403 - val_accuracy: 0.3959\n",
      "Epoch 12/300\n",
      "  83/2416 [>.............................] - ETA: 1:57 - loss: 2.1187 - accuracy: 0.3441"
     ]
    },
    {
     "name": "stderr",
     "output_type": "stream",
     "text": [
      "Corrupt JPEG data: 4015 extraneous bytes before marker 0xe2\n"
     ]
    },
    {
     "name": "stdout",
     "output_type": "stream",
     "text": [
      " 440/2416 [====>.........................] - ETA: 1:39 - loss: 2.1313 - accuracy: 0.3397"
     ]
    },
    {
     "name": "stderr",
     "output_type": "stream",
     "text": [
      "2024-06-06 00:00:06.904808: W tensorflow/core/lib/png/png_io.cc:88] PNG warning: iCCP: known incorrect sRGB profile\n"
     ]
    },
    {
     "name": "stdout",
     "output_type": "stream",
     "text": [
      "2416/2416 [==============================] - 135s 56ms/step - loss: 2.1197 - accuracy: 0.3457 - val_loss: 1.9240 - val_accuracy: 0.4026\n",
      "Epoch 13/300\n",
      "  87/2416 [>.............................] - ETA: 2:00 - loss: 2.0835 - accuracy: 0.3502"
     ]
    },
    {
     "name": "stderr",
     "output_type": "stream",
     "text": [
      "Corrupt JPEG data: 4015 extraneous bytes before marker 0xe2\n"
     ]
    },
    {
     "name": "stdout",
     "output_type": "stream",
     "text": [
      " 441/2416 [====>.........................] - ETA: 1:35 - loss: 2.1009 - accuracy: 0.3508"
     ]
    },
    {
     "name": "stderr",
     "output_type": "stream",
     "text": [
      "2024-06-06 00:02:21.149901: W tensorflow/core/lib/png/png_io.cc:88] PNG warning: iCCP: known incorrect sRGB profile\n"
     ]
    },
    {
     "name": "stdout",
     "output_type": "stream",
     "text": [
      "2416/2416 [==============================] - 134s 55ms/step - loss: 2.0921 - accuracy: 0.3523 - val_loss: 1.9085 - val_accuracy: 0.4045\n",
      "Epoch 14/300\n",
      "  86/2416 [>.............................] - ETA: 1:54 - loss: 2.1099 - accuracy: 0.3467"
     ]
    },
    {
     "name": "stderr",
     "output_type": "stream",
     "text": [
      "Corrupt JPEG data: 4015 extraneous bytes before marker 0xe2\n"
     ]
    },
    {
     "name": "stdout",
     "output_type": "stream",
     "text": [
      " 439/2416 [====>.........................] - ETA: 1:36 - loss: 2.1018 - accuracy: 0.3482"
     ]
    },
    {
     "name": "stderr",
     "output_type": "stream",
     "text": [
      "2024-06-06 00:04:35.141231: W tensorflow/core/lib/png/png_io.cc:88] PNG warning: iCCP: known incorrect sRGB profile\n"
     ]
    },
    {
     "name": "stdout",
     "output_type": "stream",
     "text": [
      "2416/2416 [==============================] - 133s 55ms/step - loss: 2.0858 - accuracy: 0.3549 - val_loss: 1.8989 - val_accuracy: 0.4096\n",
      "Epoch 15/300\n",
      "  86/2416 [>.............................] - ETA: 1:50 - loss: 2.0710 - accuracy: 0.3648"
     ]
    },
    {
     "name": "stderr",
     "output_type": "stream",
     "text": [
      "Corrupt JPEG data: 4015 extraneous bytes before marker 0xe2\n"
     ]
    },
    {
     "name": "stdout",
     "output_type": "stream",
     "text": [
      " 442/2416 [====>.........................] - ETA: 1:33 - loss: 2.0887 - accuracy: 0.3585"
     ]
    },
    {
     "name": "stderr",
     "output_type": "stream",
     "text": [
      "2024-06-06 00:06:47.300761: W tensorflow/core/lib/png/png_io.cc:88] PNG warning: iCCP: known incorrect sRGB profile\n"
     ]
    },
    {
     "name": "stdout",
     "output_type": "stream",
     "text": [
      "2416/2416 [==============================] - 130s 54ms/step - loss: 2.0693 - accuracy: 0.3596 - val_loss: 1.8832 - val_accuracy: 0.4117\n",
      "Epoch 16/300\n",
      "  87/2416 [>.............................] - ETA: 1:44 - loss: 2.0412 - accuracy: 0.3534"
     ]
    },
    {
     "name": "stderr",
     "output_type": "stream",
     "text": [
      "Corrupt JPEG data: 4015 extraneous bytes before marker 0xe2\n"
     ]
    },
    {
     "name": "stdout",
     "output_type": "stream",
     "text": [
      " 441/2416 [====>.........................] - ETA: 1:28 - loss: 2.0685 - accuracy: 0.3566"
     ]
    },
    {
     "name": "stderr",
     "output_type": "stream",
     "text": [
      "2024-06-06 00:08:56.021662: W tensorflow/core/lib/png/png_io.cc:88] PNG warning: iCCP: known incorrect sRGB profile\n"
     ]
    },
    {
     "name": "stdout",
     "output_type": "stream",
     "text": [
      "2416/2416 [==============================] - 128s 53ms/step - loss: 2.0553 - accuracy: 0.3627 - val_loss: 1.8759 - val_accuracy: 0.4125\n",
      "Epoch 17/300\n",
      "  86/2416 [>.............................] - ETA: 1:45 - loss: 2.0537 - accuracy: 0.3652"
     ]
    },
    {
     "name": "stderr",
     "output_type": "stream",
     "text": [
      "Corrupt JPEG data: 4015 extraneous bytes before marker 0xe2\n"
     ]
    },
    {
     "name": "stdout",
     "output_type": "stream",
     "text": [
      " 442/2416 [====>.........................] - ETA: 1:32 - loss: 2.0332 - accuracy: 0.3681"
     ]
    },
    {
     "name": "stderr",
     "output_type": "stream",
     "text": [
      "2024-06-06 00:11:04.692540: W tensorflow/core/lib/png/png_io.cc:88] PNG warning: iCCP: known incorrect sRGB profile\n"
     ]
    },
    {
     "name": "stdout",
     "output_type": "stream",
     "text": [
      "1312/2416 [===============>..............] - ETA: 51s - loss: 2.0268 - accuracy: 0.3685"
     ]
    }
   ],
   "source": [
    "from tensorflow.keras.callbacks import EarlyStopping\n",
    "\n",
    "early_stopping = EarlyStopping(\n",
    "    monitor='val_loss',\n",
    "    patience=10,\n",
    "    restore_best_weights=True)\n",
    "\n",
    "# Train the model\n",
    "history = model.fit(\n",
    "    train_dataset,\n",
    "    validation_data=validation_dataset,\n",
    "    epochs=300,\n",
    "    callbacks=[early_stopping],\n",
    ")\n"
   ]
  },
  {
   "cell_type": "code",
   "execution_count": null,
   "metadata": {},
   "outputs": [],
   "source": []
  },
  {
   "cell_type": "code",
   "execution_count": null,
   "metadata": {},
   "outputs": [],
   "source": []
  }
 ],
 "metadata": {
  "kernelspec": {
   "display_name": "gallery_genie",
   "language": "python",
   "name": "python3"
  },
  "language_info": {
   "codemirror_mode": {
    "name": "ipython",
    "version": 3
   },
   "file_extension": ".py",
   "mimetype": "text/x-python",
   "name": "python",
   "nbconvert_exporter": "python",
   "pygments_lexer": "ipython3",
   "version": "3.10.6"
  }
 },
 "nbformat": 4,
 "nbformat_minor": 2
}
